{
 "cells": [
  {
   "cell_type": "code",
   "execution_count": 91,
   "metadata": {},
   "outputs": [],
   "source": [
    "import os\n",
    "import sys"
   ]
  },
  {
   "cell_type": "code",
   "execution_count": 92,
   "metadata": {},
   "outputs": [],
   "source": [
    "module_path = os.path.abspath(os.path.join('../src'))\n",
    "if module_path not in sys.path:\n",
    "    sys.path.append(module_path)\n",
    "\n",
    "from Classes import Customer, ProfileBase\n",
    "from ExperimentUtils import sanity_check_purchase_upload_events, recommendations_to_csv,\\\n",
    "        run_personalized_recommendation_experiment\n",
    "from TransactionsUtils import TransactionsHandler\n",
    "from FeatureUtils import read_numpy_features_matrix"
   ]
  },
  {
   "cell_type": "code",
   "execution_count": 93,
   "metadata": {},
   "outputs": [],
   "source": [
    "os.environ['CUDA_VISIBLE_DEVICES'] = '1'"
   ]
  },
  {
   "cell_type": "code",
   "execution_count": 94,
   "metadata": {},
   "outputs": [],
   "source": [
    "tmp = read_numpy_features_matrix('./curatornet_10m/', 'item_vectors.npy', 'ids')\n",
    "item_embeddings = tmp['features']\n",
    "id2index = tmp['id2index']\n",
    "index2id = tmp['index2id']"
   ]
  },
  {
   "cell_type": "code",
   "execution_count": 95,
   "metadata": {},
   "outputs": [
    {
     "data": {
      "text/plain": [
       "(13297, 200)"
      ]
     },
     "execution_count": 95,
     "metadata": {},
     "output_type": "execute_result"
    }
   ],
   "source": [
    "item_embeddings.shape"
   ]
  },
  {
   "cell_type": "code",
   "execution_count": 96,
   "metadata": {},
   "outputs": [
    {
     "data": {
      "text/plain": [
       "13297"
      ]
     },
     "execution_count": 96,
     "metadata": {},
     "output_type": "execute_result"
    }
   ],
   "source": [
    "ids_with_features = set(index2id)\n",
    "len(ids_with_features)"
   ]
  },
  {
   "cell_type": "code",
   "execution_count": 97,
   "metadata": {},
   "outputs": [],
   "source": [
    "artworks_dict = TransactionsHandler.artworks_dict"
   ]
  },
  {
   "cell_type": "code",
   "execution_count": 98,
   "metadata": {},
   "outputs": [],
   "source": [
    "customers_dict = { cid : Customer() for cid in TransactionsHandler.sales_df.user_id_hash.unique() }"
   ]
  },
  {
   "cell_type": "code",
   "execution_count": 99,
   "metadata": {},
   "outputs": [],
   "source": [
    "# ---- upload events -----\n",
    "upload_events = TransactionsHandler.upload_events\n",
    "\n",
    "# ---- purchase events -----\n",
    "purchase_session_events = TransactionsHandler.purchase_session_events\n",
    "\n",
    "# distribute purchases among customers\n",
    "for pe in purchase_session_events:\n",
    "    customers_dict[pe.customer_id].append_purchase_session(pe)\n",
    "\n",
    "# --- join events and sort by timestamp ----\n",
    "time_events = upload_events + purchase_session_events\n",
    "time_events.sort(key=lambda x : x.timestamp)"
   ]
  },
  {
   "cell_type": "code",
   "execution_count": 100,
   "metadata": {},
   "outputs": [
    {
     "name": "stdout",
     "output_type": "stream",
     "text": [
      "len(upload_events) =  7742\n",
      "len(purchase_session_events) =  4897\n",
      "len(time_events) =  12639\n"
     ]
    }
   ],
   "source": [
    "print(\"len(upload_events) = \", len(upload_events))\n",
    "print(\"len(purchase_session_events) = \", len(purchase_session_events))\n",
    "print(\"len(time_events) = \", len(time_events))"
   ]
  },
  {
   "cell_type": "code",
   "execution_count": 101,
   "metadata": {},
   "outputs": [
    {
     "name": "stdout",
     "output_type": "stream",
     "text": [
      "CHECK: event types are correct\n",
      "CHECK: events ordered by timestamp\n",
      "CHECK: products are only uploaded once\n",
      "CHECK: products can only be purchased if present in inventory\n"
     ]
    }
   ],
   "source": [
    "sanity_check_purchase_upload_events(time_events, artworks_dict)"
   ]
  },
  {
   "cell_type": "code",
   "execution_count": 102,
   "metadata": {},
   "outputs": [],
   "source": [
    "REC_SIZE = 10\n",
    "MAX_PROFILE_SIZES = [None]\n",
    "MAX_PROFILE_TAGS = ['_(maxprofsize=oo)' if size is None else ('_(maxprofsize=%d)' % size)\n",
    "                                                                for size in MAX_PROFILE_SIZES]"
   ]
  },
  {
   "cell_type": "code",
   "execution_count": 103,
   "metadata": {},
   "outputs": [
    {
     "data": {
      "text/plain": [
       "([None], ['_(maxprofsize=oo)'])"
      ]
     },
     "execution_count": 103,
     "metadata": {},
     "output_type": "execute_result"
    }
   ],
   "source": [
    "MAX_PROFILE_SIZES, MAX_PROFILE_TAGS"
   ]
  },
  {
   "cell_type": "code",
   "execution_count": 104,
   "metadata": {},
   "outputs": [],
   "source": [
    "class CuratorNetProfile(ProfileBase):\n",
    "    # --- global -----        \n",
    "    @classmethod\n",
    "    def global_purchase_session_event_handler(cls, purch_sess):\n",
    "        pass\n",
    "\n",
    "    # --- instance ----    \n",
    "    def __init__(self, maxprofsize, artworks_dict, network, sess):\n",
    "        ProfileBase.__init__(self, maxprofsize, artworks_dict)\n",
    "        self._network = network\n",
    "        self._sess = sess\n",
    "    def ready(self):\n",
    "        return len(self.consumed_artworks) > 0    \n",
    "    def handle_artwork_added(self, artwork):\n",
    "        pass        \n",
    "    def handle_artwork_removed(self, artwork):\n",
    "        pass\n",
    "    def rank_inventory_ids(self, inventory_artworks):\n",
    "        profile_indexes = [id2index[a.id] for a in self.consumed_artworks]\n",
    "        inventory_indexes = [id2index[a.id] for a in inventory_artworks]\n",
    "        match_scores = self._network.get_match_scores(self._sess,\n",
    "            item_embeddings, profile_indexes, inventory_indexes)\n",
    "        pairs = [(s,i) for s,i in zip(match_scores, inventory_indexes)]\n",
    "        pairs.sort(reverse=True)\n",
    "        return [index2id[p[1]] for p in pairs]"
   ]
  },
  {
   "cell_type": "code",
   "execution_count": 105,
   "metadata": {},
   "outputs": [],
   "source": [
    "import tensorflow as tf\n",
    "from Networks import CuratorNet_Evaluation"
   ]
  },
  {
   "cell_type": "code",
   "execution_count": 106,
   "metadata": {},
   "outputs": [],
   "source": [
    "def run_experiments(artworks_dict, customers_dict, time_events, checkpoint_path, version, version_kwargs, version_alias=None):\n",
    "    if version_alias is None:\n",
    "        version_alias = version\n",
    "    with tf.Graph().as_default():\n",
    "        network = CuratorNet_Evaluation(**version_kwargs)\n",
    "        gpu_options = tf.GPUOptions(\n",
    "            per_process_gpu_memory_fraction=0.99,\n",
    "            allow_growth=True\n",
    "        )\n",
    "        config = tf.ConfigProto(gpu_options=gpu_options)\n",
    "        with tf.Session(config=config) as sess:\n",
    "            saver = tf.train.Saver()\n",
    "            saver.restore(sess, tf.train.latest_checkpoint(checkpoint_path))\n",
    "            for maxprofsize, maxproftag in zip(MAX_PROFILE_SIZES, MAX_PROFILE_TAGS):\n",
    "                create_profile_func = lambda _: CuratorNetProfile(maxprofsize, artworks_dict, network, sess)\n",
    "                recommendations = run_personalized_recommendation_experiment(\n",
    "                    artworks_dict, customers_dict, time_events, create_profile_func, rec_size=REC_SIZE)\n",
    "                recommendations_to_csv(\n",
    "                    recommendations,\n",
    "                    (\"../results/@{}{}_{}.csv\").format(\n",
    "                        REC_SIZE, maxproftag, version_alias))"
   ]
  },
  {
   "cell_type": "code",
   "execution_count": 107,
   "metadata": {},
   "outputs": [
    {
     "data": {
      "text/plain": [
       "'curatornet_resnet_10m'"
      ]
     },
     "execution_count": 107,
     "metadata": {},
     "output_type": "execute_result"
    }
   ],
   "source": [
    "version = 'curatornet_resnet_10m'\n",
    "version"
   ]
  },
  {
   "cell_type": "code",
   "execution_count": 108,
   "metadata": {},
   "outputs": [
    {
     "name": "stdout",
     "output_type": "stream",
     "text": [
      "WARNING:tensorflow:Entity <bound method Dense.call of <tensorflow.python.layers.core.Dense object at 0x0000021B31EEF0F0>> could not be transformed and will be executed as-is. Please report this to the AutgoGraph team. When filing the bug, set the verbosity to 10 (on Linux, `export AUTOGRAPH_VERBOSITY=10`) and attach the full output. Cause: converting <bound method Dense.call of <tensorflow.python.layers.core.Dense object at 0x0000021B31EEF0F0>>: AttributeError: module 'gast' has no attribute 'Index'\n",
      "WARNING: Entity <bound method Dense.call of <tensorflow.python.layers.core.Dense object at 0x0000021B31EEF0F0>> could not be transformed and will be executed as-is. Please report this to the AutgoGraph team. When filing the bug, set the verbosity to 10 (on Linux, `export AUTOGRAPH_VERBOSITY=10`) and attach the full output. Cause: converting <bound method Dense.call of <tensorflow.python.layers.core.Dense object at 0x0000021B31EEF0F0>>: AttributeError: module 'gast' has no attribute 'Index'\n",
      "WARNING:tensorflow:Entity <bound method Dense.call of <tensorflow.python.layers.core.Dense object at 0x0000021B31EEF0F0>> could not be transformed and will be executed as-is. Please report this to the AutgoGraph team. When filing the bug, set the verbosity to 10 (on Linux, `export AUTOGRAPH_VERBOSITY=10`) and attach the full output. Cause: converting <bound method Dense.call of <tensorflow.python.layers.core.Dense object at 0x0000021B31EEF0F0>>: AttributeError: module 'gast' has no attribute 'Index'\n",
      "WARNING: Entity <bound method Dense.call of <tensorflow.python.layers.core.Dense object at 0x0000021B31EEF0F0>> could not be transformed and will be executed as-is. Please report this to the AutgoGraph team. When filing the bug, set the verbosity to 10 (on Linux, `export AUTOGRAPH_VERBOSITY=10`) and attach the full output. Cause: converting <bound method Dense.call of <tensorflow.python.layers.core.Dense object at 0x0000021B31EEF0F0>>: AttributeError: module 'gast' has no attribute 'Index'\n",
      "WARNING:tensorflow:Entity <bound method Dense.call of <tensorflow.python.layers.core.Dense object at 0x0000021B31EEF0F0>> could not be transformed and will be executed as-is. Please report this to the AutgoGraph team. When filing the bug, set the verbosity to 10 (on Linux, `export AUTOGRAPH_VERBOSITY=10`) and attach the full output. Cause: converting <bound method Dense.call of <tensorflow.python.layers.core.Dense object at 0x0000021B31EEF0F0>>: AttributeError: module 'gast' has no attribute 'Index'\n",
      "WARNING: Entity <bound method Dense.call of <tensorflow.python.layers.core.Dense object at 0x0000021B31EEF0F0>> could not be transformed and will be executed as-is. Please report this to the AutgoGraph team. When filing the bug, set the verbosity to 10 (on Linux, `export AUTOGRAPH_VERBOSITY=10`) and attach the full output. Cause: converting <bound method Dense.call of <tensorflow.python.layers.core.Dense object at 0x0000021B31EEF0F0>>: AttributeError: module 'gast' has no attribute 'Index'\n",
      "INFO:tensorflow:Restoring parameters from C:\\Users\\victor_accete\\CuratorNet\\experiments\\curatornet_10m\\\n",
      "---------- starting experiment ------------\n",
      "500 tests done! elapsed time: 3.17 seconds\n",
      "1000 tests done! elapsed time: 6.22 seconds\n",
      "1500 tests done! elapsed time: 9.68 seconds\n",
      "1978 tests done! elapsed time: 13.15 seconds\n",
      "** recommendations successfully saved to ../results/@10_(maxprofsize=oo)_curatornet_resnet_10m.csv\n"
     ]
    }
   ],
   "source": [
    "run_experiments(artworks_dict, customers_dict, time_events,\n",
    "                checkpoint_path='./curatornet_10m/',\n",
    "                version=version,\n",
    "                version_kwargs=dict(\n",
    "                    user_layer_units=[300,300,200],\n",
    "                    latent_space_dim=200,\n",
    "                    profile_pooling_mode='AVG+MAX',\n",
    "                ))"
   ]
  }
 ],
 "metadata": {
  "kernelspec": {
   "display_name": "CuratorNetKernel",
   "language": "python",
   "name": "curatornetkernel"
  },
  "language_info": {
   "codemirror_mode": {
    "name": "ipython",
    "version": 3
   },
   "file_extension": ".py",
   "mimetype": "text/x-python",
   "name": "python",
   "nbconvert_exporter": "python",
   "pygments_lexer": "ipython3",
   "version": "3.6.2"
  }
 },
 "nbformat": 4,
 "nbformat_minor": 2
}
